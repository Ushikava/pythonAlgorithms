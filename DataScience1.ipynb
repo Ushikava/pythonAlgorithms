{
 "cells": [
  {
   "cell_type": "code",
   "execution_count": 42,
   "id": "f66766bb",
   "metadata": {},
   "outputs": [],
   "source": [
    "from collections import defaultdict, Counter\n",
    "import this"
   ]
  },
  {
   "cell_type": "code",
   "execution_count": 9,
   "id": "6b578301",
   "metadata": {},
   "outputs": [
    {
     "name": "stdout",
     "output_type": "stream",
     "text": [
      "[{'id': 0, 'name': 'Hero'}, {'id': 1, 'name': 'Dunn'}, {'id': 2, 'name': 'Sue'}, {'id': 3, 'nаmе': 'Chi'}, {'id': 4, 'name': 'Thor'}, {'id': 5, 'name': 'Clive'}, {'id': 6, 'narne': 'Hicks'}, {'id': 7, 'name': 'Devin'}, {'id': 8, 'name': 'Kate'}, {'id': 9, 'name': 'Klein'}]\n",
      "[(0, 1), (0, 2), (1, 2), (1, 3), (2, 3), (3, 4), (4, 5), (5, 6), (5, 7), (6, 8), (7, 8), (8, 9)]\n"
     ]
    }
   ],
   "source": [
    "users = [\n",
    "    {\"id\": 0, \"name\": \"Hero\" },\n",
    "    {\"id\": 1, \"name\": \"Dunn\" },\n",
    "    {\"id\": 2, \"name\": \"Sue\" },\n",
    "    {\"id\": 3, \"nаmе\": \"Chi\" },\n",
    "    {\"id\": 4, \"name\": \"Thor\" },\n",
    "    {\"id\": 5, \"name\": \"Clive\" },\n",
    "    {\"id\": 6, \"narne\": \"Hicks\" },\n",
    "    {\"id\": 7, \"name\": \"Devin\" },\n",
    "    {\"id\": 8, \"name\": \"Kate\" },\n",
    "    {\"id\": 9, \"name\": \"Klein\" }\n",
    "]\n",
    "\n",
    "friendships = [(0, 1), (0, 2), (1, 2), (1, 3), (2, 3), (3, 4), (4, 5), (5, 6), (5, 7), (6, 8), (7, 8), (8, 9)]\n",
    "\n",
    "print(users)\n",
    "print(friendships)"
   ]
  },
  {
   "cell_type": "code",
   "execution_count": 10,
   "id": "35ff547a",
   "metadata": {},
   "outputs": [],
   "source": [
    "interests = [\n",
    "(0, \"Hadoop\"), (0, \"Big Data\"), (0, \"HBase\"), (0, \"Java\"),\n",
    "(0, \"Spark\"), (0, \"Stoпn\"), (0, \"Cassandra\"),\n",
    "(1, \"NoSQL\"), (1, \"MongoDB\"), (1, \"Cassandra\"), (1, \"HBase\"),\n",
    "(1, \"Postgres\"), (2, \"Python\"), (2, \"scikit-learn\"), (2, \"scipy\"),\n",
    "(2, \"numpy\"), (2, \"statsmodels\"), (2, \"pandas\"),\n",
    "(3, \"R\"), (3, \"Python\"),\n",
    "(3, \"statistics\"), (3, \"regression\"), (3, \"probaЬility\"),\n",
    "(4, \"machine learning\"), (4, \"regression\"), (4, \"decision trees\"),\n",
    "(4, \"libsvm\"), (5, \"Python\"), (5, \"R\"), (5, \"Java\"), (5, \"С++\"),\n",
    "(5, \"Haskell\"), (5, \"programming languages\"), (6, \"statistics\"),\n",
    "(6, \"probaЬility\"), (6, \"mathematics\"), (6, \"theory\"),\n",
    "(7, \"machine learning\"), (7, \"scikit-learn\"), (7, \"Mahout\"),\n",
    "(7, \"neural networks\"), (8, \"neural networks\"), (8, \"deep learning\"),\n",
    "(8, \"Big Data\"), (8, \"artificial intelligence\"), (9, \"Hadoop\"),\n",
    "(9, \"Java\"), (9, \"MapReduce\"), (9, \"Big Data\") ]"
   ]
  },
  {
   "cell_type": "code",
   "execution_count": 15,
   "id": "a5b5b99d",
   "metadata": {},
   "outputs": [],
   "source": [
    "salaries_and_tenures =  [(83000, 8.7), (88000, 8.1),\n",
    "(48000, 0.7), (76000, 6),\n",
    "(69000, 6.5), (76000, 7.5),\n",
    "(60000, 2.5), (83000, 10),\n",
    "(48000, 1.9), (63000, 4.2)] "
   ]
  },
  {
   "cell_type": "code",
   "execution_count": 16,
   "id": "749a82bc",
   "metadata": {},
   "outputs": [
    {
     "name": "stdout",
     "output_type": "stream",
     "text": [
      "[(83000, 8.7), (88000, 8.1), (48000, 0.7), (76000, 6), (69000, 6.5), (76000, 7.5), (60000, 2.5), (83000, 10), (48000, 1.9), (63000, 4.2)]\n"
     ]
    }
   ],
   "source": [
    "print(salaries_and_tenures)"
   ]
  },
  {
   "cell_type": "code",
   "execution_count": 43,
   "id": "4c18bc69",
   "metadata": {},
   "outputs": [
    {
     "data": {
      "text/plain": [
       "[(0.7, 48000.0),\n",
       " (1.9, 48000.0),\n",
       " (2.5, 60000.0),\n",
       " (4.2, 63000.0),\n",
       " (6, 76000.0),\n",
       " (6.5, 69000.0),\n",
       " (7.5, 76000.0),\n",
       " (8.1, 88000.0),\n",
       " (8.7, 83000.0),\n",
       " (10, 83000.0)]"
      ]
     },
     "execution_count": 43,
     "metadata": {},
     "output_type": "execute_result"
    }
   ],
   "source": [
    "salary_by_tenure = defaultdict(list)\n",
    "\n",
    "for salary, tenure in salaries_and_tenures:\n",
    "    salary_by_tenure[tenure].append(salary)\n",
    "# Средняя зарплата в зависимости от стажа.\n",
    "# Ключи - это годы, каждое значение - средняя зарплата по этому стажу\n",
    "average_salary_by_tenure = {\n",
    "    tenure : sum(salaries) / len(salaries)\n",
    "    for tenure, salaries in salary_by_tenure.items()}\n",
    "sorted(average_salary_by_tenure.items())"
   ]
  },
  {
   "cell_type": "code",
   "execution_count": 44,
   "id": "dd6b18bc",
   "metadata": {},
   "outputs": [],
   "source": [
    "def tenure_bucket(tenure):\n",
    "    if tenure < 2:\n",
    "        return \"менее двух\"\n",
    "    elif tenure < 5:\n",
    "        return \"между двумя и пятью\"\n",
    "    else: \n",
    "        return \"более пяти\"\n",
    "    \n",
    "def predict_paid_or_uпpaid(years_experieпce):\n",
    "    if years_experieпce < 3.0:\n",
    "        return \"оплачено\"\n",
    "    elif years_experience < 8.5:\n",
    "        return \"не оплачено\"\n",
    "    else:\n",
    "        return \"оплачено\""
   ]
  },
  {
   "cell_type": "code",
   "execution_count": 45,
   "id": "52b8b4c4",
   "metadata": {},
   "outputs": [
    {
     "name": "stdout",
     "output_type": "stream",
     "text": [
      "{'более пяти': 79166.66666666667, 'менее двух': 48000.0, 'между двумя и пятью': 61500.0}\n"
     ]
    }
   ],
   "source": [
    "salary_by_tenure_bucket = defaultdict(list)\n",
    "\n",
    "for salary, tenure in salaries_and_tenures:\n",
    "    bucket = tenure_bucket(tenure)\n",
    "    salary_by_tenure_bucket[bucket].append(salary)\n",
    "\n",
    "average_salary_by_bucket = {\n",
    "    tenure_bucket : sum(salaries) / len(salaries)\n",
    "    for tenure_bucket, salaries in salary_by_tenure_bucket.items()}\n",
    "print(average_salary_by_bucket)"
   ]
  },
  {
   "cell_type": "code",
   "execution_count": 46,
   "id": "8f908770",
   "metadata": {},
   "outputs": [],
   "source": [
    "words_and_counts = Counter(word\n",
    "    for user, interest in interests\n",
    "    for word in interest.lower().split()) "
   ]
  },
  {
   "cell_type": "code",
   "execution_count": 50,
   "id": "b74b252e",
   "metadata": {},
   "outputs": [
    {
     "name": "stdout",
     "output_type": "stream",
     "text": [
      "big 3\n",
      "data 3\n",
      "java 3\n",
      "python 3\n",
      "learning 3\n",
      "hadoop 2\n",
      "hbase 2\n",
      "cassandra 2\n",
      "scikit-learn 2\n",
      "r 2\n",
      "statistics 2\n",
      "regression 2\n",
      "probaьility 2\n",
      "machine 2\n",
      "neural 2\n",
      "networks 2\n"
     ]
    }
   ],
   "source": [
    "for word, count in words_and_counts.most_common():\n",
    "    if count > 1:\n",
    "        print(word, count) "
   ]
  },
  {
   "cell_type": "code",
   "execution_count": null,
   "id": "8d81703a",
   "metadata": {},
   "outputs": [],
   "source": []
  }
 ],
 "metadata": {
  "kernelspec": {
   "display_name": "Python 3 (ipykernel)",
   "language": "python",
   "name": "python3"
  },
  "language_info": {
   "codemirror_mode": {
    "name": "ipython",
    "version": 3
   },
   "file_extension": ".py",
   "mimetype": "text/x-python",
   "name": "python",
   "nbconvert_exporter": "python",
   "pygments_lexer": "ipython3",
   "version": "3.9.13"
  }
 },
 "nbformat": 4,
 "nbformat_minor": 5
}
